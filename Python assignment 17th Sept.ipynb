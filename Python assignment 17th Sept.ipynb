{
 "cells": [
  {
   "cell_type": "code",
   "execution_count": 1,
   "id": "08104321",
   "metadata": {},
   "outputs": [
    {
     "name": "stdout",
     "output_type": "stream",
     "text": [
      "1\n",
      "2\n",
      "3\n",
      "4\n",
      "5\n",
      "6\n",
      "7\n",
      "8\n",
      "9\n",
      "10\n"
     ]
    }
   ],
   "source": [
    "#For Loop :-\n",
    "\n",
    "# 1.Write a Python program to print numbers from 1 to 10 using a for loop.\n",
    "for i in range(1,11):\n",
    "    print(i)"
   ]
  },
  {
   "cell_type": "code",
   "execution_count": null,
   "id": "9891981d",
   "metadata": {},
   "outputs": [],
   "source": [
    "# 2.Explain the difference between a for loop and a while loop in Python.\n",
    "# for loop\n",
    "'''\n",
    "1.we use for loop when the number of iteration is known.\n",
    "2. For loop is used to iterate over a sequence of items.\n",
    "'''\n",
    "\n",
    "#while loop\n",
    "'''\n",
    "1.we use for loop when number of iteration is not known.\n",
    "2.While loop is used to repeatedly execute a block of statements while a condition is true.\n",
    "'''"
   ]
  },
  {
   "cell_type": "code",
   "execution_count": 2,
   "id": "551fdf54",
   "metadata": {},
   "outputs": [
    {
     "data": {
      "text/plain": [
       "5050"
      ]
     },
     "execution_count": 2,
     "metadata": {},
     "output_type": "execute_result"
    }
   ],
   "source": [
    "# 3.Write a Python program to calculate the sum of all numbers from 1 to 100 using a for loop.\n",
    "sum = 0\n",
    "for i in range(1,101):\n",
    "    sum +=i\n",
    "sum"
   ]
  },
  {
   "cell_type": "code",
   "execution_count": 3,
   "id": "c399f2ff",
   "metadata": {},
   "outputs": [
    {
     "name": "stdout",
     "output_type": "stream",
     "text": [
      "1\n",
      "3\n",
      "5\n",
      "7\n",
      "9\n"
     ]
    }
   ],
   "source": [
    "# 4.How do you iterate through a list using a for loop in Python?\n",
    "# ans . we iterate each element of list from start to end\n",
    "list = [1, 3, 5, 7, 9]\n",
    "  \n",
    "# Using for loop\n",
    "for i in list:\n",
    "    print(i)"
   ]
  },
  {
   "cell_type": "code",
   "execution_count": 4,
   "id": "d5ed754d",
   "metadata": {},
   "outputs": [
    {
     "data": {
      "text/plain": [
       "945"
      ]
     },
     "execution_count": 4,
     "metadata": {},
     "output_type": "execute_result"
    }
   ],
   "source": [
    "# 5.Write a Python program to find the product of all elements in a list using a for loop.\n",
    "list = [1, 3, 5, 7, 9]\n",
    "product = 1\n",
    "for i in list:\n",
    "    product *=i\n",
    "product"
   ]
  },
  {
   "cell_type": "code",
   "execution_count": 6,
   "id": "ddbc2055",
   "metadata": {},
   "outputs": [
    {
     "name": "stdout",
     "output_type": "stream",
     "text": [
      "2\n",
      "4\n",
      "6\n",
      "8\n",
      "10\n",
      "12\n",
      "14\n",
      "16\n",
      "18\n",
      "20\n"
     ]
    }
   ],
   "source": [
    "# 6.Create a Python program that prints all even numbers from 1 to 20 using a for loop.\n",
    "for i in range(1,21):\n",
    "    if i %2==0:\n",
    "        print(i)"
   ]
  },
  {
   "cell_type": "code",
   "execution_count": 14,
   "id": "a9567339",
   "metadata": {},
   "outputs": [
    {
     "data": {
      "text/plain": [
       "1307674368000"
      ]
     },
     "execution_count": 14,
     "metadata": {},
     "output_type": "execute_result"
    }
   ],
   "source": [
    "#7. Write a Python program that calculates the factorial of a number using a for loop.\n",
    "def fact(n):\n",
    "    if n<=1:\n",
    "        return 1\n",
    "    factorial = 1\n",
    "    for i in range(1,n+1):\n",
    "        factorial *= i\n",
    "    return factorial\n",
    "fact(15)        "
   ]
  },
  {
   "cell_type": "code",
   "execution_count": 15,
   "id": "d90ee8f8",
   "metadata": {},
   "outputs": [
    {
     "name": "stdout",
     "output_type": "stream",
     "text": [
      "r\n",
      "i\n",
      "s\n",
      "h\n",
      "a\n",
      "b\n",
      "h\n"
     ]
    }
   ],
   "source": [
    "#8. How can you iterate through the characters of a string using a for loop in Python?\n",
    "a = 'rishabh'\n",
    "for i in a:\n",
    "    print(i)"
   ]
  },
  {
   "cell_type": "code",
   "execution_count": 24,
   "id": "0a7e81b5",
   "metadata": {},
   "outputs": [
    {
     "name": "stdout",
     "output_type": "stream",
     "text": [
      "67\n"
     ]
    }
   ],
   "source": [
    "#9. Write a Python program to find the largest number in a list using a for loop.\n",
    "a = [1,2,3,4,5,67]\n",
    "max_num = 1\n",
    "for i in a:\n",
    "    if i > max_num:\n",
    "        max_num= i\n",
    "print(max_num)"
   ]
  },
  {
   "cell_type": "code",
   "execution_count": 28,
   "id": "e7633dda",
   "metadata": {},
   "outputs": [
    {
     "data": {
      "text/plain": [
       "55"
      ]
     },
     "execution_count": 28,
     "metadata": {},
     "output_type": "execute_result"
    }
   ],
   "source": [
    "#10. Create a Python program that prints the Fibonacci sequence up to a specified limit using a for loop.\n",
    "def fib(n):\n",
    "    a1 = 0\n",
    "    a2 = 1\n",
    "    for i in range(2,n+1):\n",
    "        a3 = a1+a2\n",
    "        a1 = a2\n",
    "        a2 = a3\n",
    "    return a2\n",
    "fib(10)"
   ]
  },
  {
   "cell_type": "code",
   "execution_count": 31,
   "id": "b56c0d0f",
   "metadata": {},
   "outputs": [
    {
     "data": {
      "text/plain": [
       "2"
      ]
     },
     "execution_count": 31,
     "metadata": {},
     "output_type": "execute_result"
    }
   ],
   "source": [
    "#11. Write a Python program to count the number of vowels in a given string using a for loop.\n",
    "vowels = 'aeiouAEIOU'\n",
    "a = 'rishabh'\n",
    "vowel_count = 0\n",
    "for i in a:\n",
    "    if i in vowels:\n",
    "        vowel_count+=1\n",
    "vowel_count"
   ]
  },
  {
   "cell_type": "code",
   "execution_count": 36,
   "id": "351e80a0",
   "metadata": {},
   "outputs": [
    {
     "name": "stdout",
     "output_type": "stream",
     "text": [
      "enter number: 5\n",
      "5\n",
      "10\n",
      "15\n",
      "20\n",
      "25\n",
      "30\n",
      "35\n",
      "40\n",
      "45\n",
      "50\n"
     ]
    }
   ],
   "source": [
    "#12. Create a Python program that generates a multiplication table for a given number using a for loop.\n",
    "a = int(input('enter number: '))\n",
    "for j in range(1,11):\n",
    "    multi = a*j\n",
    "    print(multi)"
   ]
  },
  {
   "cell_type": "code",
   "execution_count": 39,
   "id": "12a82cd9",
   "metadata": {},
   "outputs": [
    {
     "name": "stdout",
     "output_type": "stream",
     "text": [
      "[5, 4, 3, 2, 1]\n"
     ]
    }
   ],
   "source": [
    "#13.Write a Python program to reverse a list using a for loop\n",
    "orignal_list=[1,2,3,4,5]\n",
    "reversed_list = []\n",
    "for item in orignal_list:\n",
    "    reversed_list.insert(0, item)  # Insert each item at the beginning of the reversed list\n",
    "print(reversed_list)"
   ]
  },
  {
   "cell_type": "code",
   "execution_count": 40,
   "id": "c332c5a7",
   "metadata": {},
   "outputs": [
    {
     "name": "stdout",
     "output_type": "stream",
     "text": [
      "4\n"
     ]
    }
   ],
   "source": [
    "#14.Write a Python program to find the common elements between two lists using a for loop.\n",
    "a = [1,2,3,4]\n",
    "b = [4,5,6,7]\n",
    "for i in a:\n",
    "    if i in b:\n",
    "        print(i)"
   ]
  },
  {
   "cell_type": "code",
   "execution_count": 43,
   "id": "94656207",
   "metadata": {},
   "outputs": [
    {
     "name": "stdout",
     "output_type": "stream",
     "text": [
      "Key: name, Value: John\n",
      "Key: age, Value: 30\n",
      "Key: city, Value: New York\n"
     ]
    }
   ],
   "source": [
    "#15.Explain how to use a for loop to iterate through the keys and values of a dictionary in Python.\n",
    "my_dict = {'name': 'John', 'age': 30, 'city': 'New York'}\n",
    "\n",
    "# Iterate through the keys and values using a for loop\n",
    "for key, value in my_dict.items():\n",
    "    print(f'Key: {key}, Value: {value}')\n"
   ]
  },
  {
   "cell_type": "code",
   "execution_count": 45,
   "id": "11eecca4",
   "metadata": {},
   "outputs": [
    {
     "data": {
      "text/plain": [
       "10"
      ]
     },
     "execution_count": 45,
     "metadata": {},
     "output_type": "execute_result"
    }
   ],
   "source": [
    "#16.Write a Python program to find the GCD (Greatest Common Divisor) of two numbers using a for loop.\n",
    "def find_gcd(x, y):\n",
    "    while y != 0:\n",
    "        x, y = y, x % y\n",
    "    return x\n",
    "find_gcd(40,50)\n",
    "        "
   ]
  },
  {
   "cell_type": "code",
   "execution_count": 6,
   "id": "a0f64e6c",
   "metadata": {},
   "outputs": [
    {
     "name": "stdout",
     "output_type": "stream",
     "text": [
      "rishabh is not a palindrome.\n"
     ]
    }
   ],
   "source": [
    "#17.Create a Python program that checks if a string is a palindrome using a for loop.\n",
    "word = 'rishabh'\n",
    "\n",
    "# we also need the length of word to iterate over its range\n",
    "length_word = int(len(word))\n",
    "\n",
    "### use a for-loop\n",
    "for letter in range(len(word)):\n",
    "    if word[-length_word] == word[-1]:\n",
    "        print(word, \"is a palindrome.\")\n",
    "        break\n",
    "        \n",
    "# if it doesn't match, its not a palindrome, print message\n",
    "    else:\n",
    "        print(word, \"is not a palindrome.\")\n",
    "        break\n"
   ]
  },
  {
   "cell_type": "code",
   "execution_count": 8,
   "id": "edb15269",
   "metadata": {},
   "outputs": [
    {
     "data": {
      "text/plain": [
       "[1, 2, 3, 4]"
      ]
     },
     "execution_count": 8,
     "metadata": {},
     "output_type": "execute_result"
    }
   ],
   "source": [
    "#18.Write a Python program to remove duplicates from a list using a for loop.\n",
    "a = [1,1,1,1,2,2,2,3,3,3,4,4,4,4]\n",
    "b= []\n",
    "for i in a:\n",
    "    if i not in b:\n",
    "        b.append(i)\n",
    "b"
   ]
  },
  {
   "cell_type": "code",
   "execution_count": 9,
   "id": "3ad7c420",
   "metadata": {},
   "outputs": [
    {
     "data": {
      "text/plain": [
       "5"
      ]
     },
     "execution_count": 9,
     "metadata": {},
     "output_type": "execute_result"
    }
   ],
   "source": [
    "#19.Create a Python program that counts the number of words in a sentence using a for loop.\n",
    "a = 'rishabh is a good boy'\n",
    "b = a.split()\n",
    "count = 0\n",
    "for i in b:\n",
    "    count+=1\n",
    "count"
   ]
  },
  {
   "cell_type": "code",
   "execution_count": 10,
   "id": "45aa0ea8",
   "metadata": {},
   "outputs": [
    {
     "data": {
      "text/plain": [
       "625"
      ]
     },
     "execution_count": 10,
     "metadata": {},
     "output_type": "execute_result"
    }
   ],
   "source": [
    "#20.Write a Python program to find the sum of all odd numbers from 1 to 50 using a for loop.\n",
    "sum = 0\n",
    "for i in range(1,51):\n",
    "    if i%2!=0:\n",
    "        sum += i\n",
    "sum"
   ]
  },
  {
   "cell_type": "code",
   "execution_count": 19,
   "id": "afc6d352",
   "metadata": {},
   "outputs": [
    {
     "name": "stdout",
     "output_type": "stream",
     "text": [
      "Enter the starting year: 2000\n",
      "Enter the ending year: 2023\n",
      "Leap years within the given range:\n",
      "2000\n",
      "2004\n",
      "2008\n",
      "2012\n",
      "2016\n",
      "2020\n"
     ]
    }
   ],
   "source": [
    "#21.Write a Python program that checks if a given year is a leap year using a for loop.\n",
    "def is_leap_year(year):\n",
    "    if (year % 4 == 0 and year % 100 != 0) or (year % 400 == 0):\n",
    "        return True\n",
    "    else:\n",
    "        return False\n",
    "\n",
    "start_year = int(input(\"Enter the starting year: \"))\n",
    "end_year = int(input(\"Enter the ending year: \"))\n",
    "\n",
    "leap_years = []\n",
    "\n",
    "for year in range(start_year, end_year + 1):\n",
    "    if is_leap_year(year):\n",
    "        leap_years.append(year)\n",
    "\n",
    "if len(leap_years) > 0:\n",
    "    print(\"Leap years within the given range:\")\n",
    "    for year in leap_years:\n",
    "        print(year)\n",
    "else:\n",
    "    print(\"No leap years found within the given range.\")\n",
    "\n"
   ]
  },
  {
   "cell_type": "code",
   "execution_count": 23,
   "id": "2a4bc189",
   "metadata": {},
   "outputs": [
    {
     "data": {
      "text/plain": [
       "25"
      ]
     },
     "execution_count": 23,
     "metadata": {},
     "output_type": "execute_result"
    }
   ],
   "source": [
    "#22.Create a Python program that calculates the square root of a number using a for loop.\n",
    "def square_root(n):\n",
    "    for i in range(n):\n",
    "        if i*i==n:\n",
    "            return i\n",
    "square_root(625)"
   ]
  },
  {
   "cell_type": "code",
   "execution_count": 24,
   "id": "b2706d4b",
   "metadata": {},
   "outputs": [
    {
     "name": "stdout",
     "output_type": "stream",
     "text": [
      "Enter the first number: 50\n",
      "Enter the second number: 40\n",
      "The LCM of 50 and 40 is 200\n"
     ]
    }
   ],
   "source": [
    "#23.Write a Python program to find the LCM (Least Common Multiple) of two numbers using a for loop.\n",
    "def find_lcm(x, y):\n",
    "    if x > y:\n",
    "        greater = x\n",
    "    else:\n",
    "        greater = y\n",
    "\n",
    "    for lcm in range(greater, x * y + 1, greater):\n",
    "        if lcm % x == 0 and lcm % y == 0:\n",
    "            return lcm\n",
    "\n",
    "# Input two numbers from the user\n",
    "num1 = int(input(\"Enter the first number: \"))\n",
    "num2 = int(input(\"Enter the second number: \"))\n",
    "\n",
    "lcm = find_lcm(num1, num2)\n",
    "\n",
    "print(f\"The LCM of {num1} and {num2} is {lcm}\")\n"
   ]
  },
  {
   "cell_type": "code",
   "execution_count": 25,
   "id": "97796ea9",
   "metadata": {},
   "outputs": [
    {
     "name": "stdout",
     "output_type": "stream",
     "text": [
      "positive\n"
     ]
    }
   ],
   "source": [
    "#If else :\n",
    "\n",
    "\n",
    "#1.Write a Python program to check if a number is positive, negative, or zero using an if-else statement.\n",
    "a = 10\n",
    "if a>=0:\n",
    "    print('positive')\n",
    "elif a==0:\n",
    "    print('zero')\n",
    "else:\n",
    "    print('negative')"
   ]
  },
  {
   "cell_type": "code",
   "execution_count": 26,
   "id": "2afd8cb7",
   "metadata": {},
   "outputs": [
    {
     "name": "stdout",
     "output_type": "stream",
     "text": [
      "even\n"
     ]
    }
   ],
   "source": [
    "#2.Create a Python program that checks if a given number is even or odd using an if-else statement.\n",
    "a = 8\n",
    "if a%2==0:\n",
    "    print('even')\n",
    "else:\n",
    "    print('odd')"
   ]
  },
  {
   "cell_type": "code",
   "execution_count": 27,
   "id": "d3bfeff0",
   "metadata": {},
   "outputs": [
    {
     "name": "stdout",
     "output_type": "stream",
     "text": [
      "positive\n",
      "the number is positive and bigger than 5\n"
     ]
    }
   ],
   "source": [
    "#3.How can you use nested if-else statements in Python, and provide an example?\n",
    "a = 10\n",
    "if a>=0:\n",
    "    print('positive')\n",
    "    if a>5:\n",
    "        print('the number is positive and bigger than 5')\n",
    "    else :\n",
    "        print('the number is positive but lesser than 5')\n",
    "elif a==0:\n",
    "    print('zero')\n",
    "else:\n",
    "    print('negative')"
   ]
  },
  {
   "cell_type": "code",
   "execution_count": 28,
   "id": "3715e680",
   "metadata": {},
   "outputs": [
    {
     "name": "stdout",
     "output_type": "stream",
     "text": [
      "c is max\n"
     ]
    }
   ],
   "source": [
    "#4.Write a Python program to determine the largest of three numbers using if-else.\n",
    "a = 5\n",
    "b = 10\n",
    "c = 15\n",
    "if a>b and a>c:\n",
    "    print('max is a')\n",
    "elif b>a and b>c:\n",
    "    print('b is max')\n",
    "else:\n",
    "    print('c is max')\n"
   ]
  },
  {
   "cell_type": "code",
   "execution_count": 29,
   "id": "688ab1b2",
   "metadata": {},
   "outputs": [
    {
     "data": {
      "text/plain": [
       "50"
      ]
     },
     "execution_count": 29,
     "metadata": {},
     "output_type": "execute_result"
    }
   ],
   "source": [
    "#5.Write a Python program that calculates the absolute value of a number using if-else.\n",
    "def absolute_value(num):\n",
    "    \"\"\"This function returns the absolute\n",
    "    value of the entered number\"\"\"\n",
    "\n",
    "    if num >= 0:\n",
    "        return num\n",
    "    else:\n",
    "        return -num\n",
    "absolute_value(-50)"
   ]
  },
  {
   "cell_type": "code",
   "execution_count": 30,
   "id": "c4c25e8a",
   "metadata": {},
   "outputs": [
    {
     "name": "stdout",
     "output_type": "stream",
     "text": [
      "vowel\n"
     ]
    }
   ],
   "source": [
    "#6.Create a Python program that checks if a given character is a vowel or consonant using if-else\n",
    "a = 'i'\n",
    "b = 'aeiou'\n",
    "if a in b:\n",
    "    print('vowel')\n",
    "else:\n",
    "    print('not vowel')"
   ]
  },
  {
   "cell_type": "code",
   "execution_count": 31,
   "id": "b84b4c78",
   "metadata": {},
   "outputs": [
    {
     "name": "stdout",
     "output_type": "stream",
     "text": [
      "enter your age12\n",
      "you are a kid not eligible\n"
     ]
    }
   ],
   "source": [
    "#7.Write a Python program to determine if a user is eligible to vote based on their age using if-else.\n",
    "a = int(input('enter your age'))\n",
    "if a>=18:\n",
    "    print('eligible')\n",
    "else:\n",
    "    print('you are a kid not eligible')"
   ]
  },
  {
   "cell_type": "code",
   "execution_count": 32,
   "id": "36ff4025",
   "metadata": {},
   "outputs": [
    {
     "name": "stdout",
     "output_type": "stream",
     "text": [
      "Enter the purchase amount: $500\n",
      "Original Price: $500.00\n",
      "Discount Rate: 15%\n",
      "Discounted Price: $425.00\n"
     ]
    }
   ],
   "source": [
    "#8.Create a Python program that calculates the discount amount based on the purchase amount using if-else.\n",
    "purchase_amount = float(input(\"Enter the purchase amount: $\"))\n",
    "\n",
    "# Define discount rates for different purchase amounts\n",
    "if purchase_amount < 50:\n",
    "    discount = 0\n",
    "elif purchase_amount < 100:\n",
    "    discount = 5\n",
    "elif purchase_amount < 200:\n",
    "    discount = 10\n",
    "else:\n",
    "    discount = 15\n",
    "\n",
    "# Calculate the discounted price\n",
    "discounted_price = purchase_amount - (purchase_amount * discount / 100)\n",
    "\n",
    "# Print the results\n",
    "print(f\"Original Price: ${purchase_amount:.2f}\")\n",
    "print(f\"Discount Rate: {discount}%\")\n",
    "print(f\"Discounted Price: ${discounted_price:.2f}\")\n"
   ]
  },
  {
   "cell_type": "code",
   "execution_count": 34,
   "id": "c01e623e",
   "metadata": {},
   "outputs": [
    {
     "name": "stdout",
     "output_type": "stream",
     "text": [
      "a is bitween 10 to 15\n"
     ]
    }
   ],
   "source": [
    "#9.Write a Python program to check if a number is within a specified range using if-else.\n",
    "a= 10\n",
    "if 9<a<=15:\n",
    "    print('a is bitween 10 to 15')\n",
    "else:\n",
    "    print('a is above range of 15')"
   ]
  },
  {
   "cell_type": "code",
   "execution_count": 35,
   "id": "1137a72f",
   "metadata": {},
   "outputs": [
    {
     "name": "stdout",
     "output_type": "stream",
     "text": [
      "good\n"
     ]
    }
   ],
   "source": [
    "#10.Create a Python program that determines the grade of a student based on their score using if-else.\n",
    "a = 85\n",
    "if a<=33:\n",
    "    print('fail')\n",
    "elif a<=60:\n",
    "    print('average')\n",
    "elif a<=80:\n",
    "    print('above average')\n",
    "elif a<=100:\n",
    "    print('good')"
   ]
  },
  {
   "cell_type": "code",
   "execution_count": 36,
   "id": "473b85b2",
   "metadata": {},
   "outputs": [
    {
     "name": "stdout",
     "output_type": "stream",
     "text": [
      "emty string\n"
     ]
    }
   ],
   "source": [
    "#11.Write a Python program to check if a string is empty or not using if-else.\n",
    "a = ''\n",
    "if len(a)==0:\n",
    "    print('emty string')\n",
    "else:\n",
    "    print('string is not empty')"
   ]
  },
  {
   "cell_type": "code",
   "execution_count": 38,
   "id": "34d0bb2e",
   "metadata": {},
   "outputs": [
    {
     "name": "stdout",
     "output_type": "stream",
     "text": [
      "enter the base :10\n",
      "enter the height: 10\n",
      "enter the hypotenus: 10\n",
      "eqvilateral\n"
     ]
    }
   ],
   "source": [
    "#12.Create a Python program that identifies the type of a triangle (e.g., equilateral, isosceles, or scalene) \n",
    "#based on input values using if-else.\n",
    "base = float(input('enter the base :'))\n",
    "height = float(input('enter the height: '))\n",
    "hypotenus = float(input('enter the hypotenus: '))\n",
    "if base==height==hypotenus:\n",
    "    print('eqvilateral')\n",
    "elif hypotenus==height!=base:\n",
    "    print('isosceles')\n",
    "elif base!=height!=hypotenus:\n",
    "    print('scalene')"
   ]
  },
  {
   "cell_type": "code",
   "execution_count": 39,
   "id": "e186aa81",
   "metadata": {},
   "outputs": [
    {
     "name": "stdout",
     "output_type": "stream",
     "text": [
      "Enter a number (1-7) to determine the day of the week: 5\n",
      "The day of the week for 5 is Friday.\n"
     ]
    }
   ],
   "source": [
    "#13.Write a Python program to determine the day of the week based on a user-provided number using if-else.\n",
    "days_of_week = {\n",
    "    1: \"Monday\",\n",
    "    2: \"Tuesday\",\n",
    "    3: \"Wednesday\",\n",
    "    4: \"Thursday\",\n",
    "    5: \"Friday\",\n",
    "    6: \"Saturday\",\n",
    "    7: \"Sunday\"\n",
    "}\n",
    "\n",
    "# Ask the user for a number input\n",
    "user_input = int(input(\"Enter a number (1-7) to determine the day of the week: \"))\n",
    "\n",
    "# Check if the input is within the valid range\n",
    "if 1 <= user_input <= 7:\n",
    "    # Look up the corresponding day in the dictionary\n",
    "    day = days_of_week[user_input]\n",
    "    print(f\"The day of the week for {user_input} is {day}.\")\n",
    "else:\n",
    "    print(\"Invalid input. Please enter a number between 1 and 7.\")"
   ]
  },
  {
   "cell_type": "code",
   "execution_count": 40,
   "id": "7e0e23f3",
   "metadata": {},
   "outputs": [
    {
     "name": "stdout",
     "output_type": "stream",
     "text": [
      "leap year\n"
     ]
    }
   ],
   "source": [
    "#14.Create a Python program that checks if a given year is a leap year using both if-else and a function.\n",
    "a = 2000\n",
    "if a%4==0:\n",
    "    print('leap year')\n",
    "else:\n",
    "    print('not a leap')"
   ]
  },
  {
   "cell_type": "code",
   "execution_count": 41,
   "id": "8e86117a",
   "metadata": {},
   "outputs": [
    {
     "name": "stdout",
     "output_type": "stream",
     "text": [
      "x is less than y\n"
     ]
    }
   ],
   "source": [
    "#15.How do you use the \"assert\" statement in Python to add debugging checks within if-else blocks?\n",
    "x = 10\n",
    "y = 20\n",
    "\n",
    "# Check if x is less than y, and if not, raise an AssertionError\n",
    "assert x < y, \"x is not less than y\"\n",
    "\n",
    "if x < y:\n",
    "    print(\"x is less than y\")\n",
    "else:\n",
    "    print(\"x is not less than y\")\n"
   ]
  },
  {
   "cell_type": "code",
   "execution_count": 42,
   "id": "391536f2",
   "metadata": {},
   "outputs": [
    {
     "name": "stdout",
     "output_type": "stream",
     "text": [
      "you are a senior citizen and your eligible for 15% dicount\n"
     ]
    }
   ],
   "source": [
    "#16.Create a Python program that determines the eligibility of a person for a senior citizen discount based on age using if-else\n",
    "age = 66\n",
    "if age>60:\n",
    "    print('you are a senior citizen and your eligible for 15% dicount')\n",
    "else:\n",
    "    print('not eligibe')"
   ]
  },
  {
   "cell_type": "code",
   "execution_count": 43,
   "id": "82f112c7",
   "metadata": {},
   "outputs": [
    {
     "name": "stdout",
     "output_type": "stream",
     "text": [
      "lowercase\n"
     ]
    }
   ],
   "source": [
    "#17.Write a Python program to categorize a given character as uppercase, lowercase, or neither using if-else.\n",
    "a = 'r'\n",
    "if a==a.upper():\n",
    "    print('upper case')\n",
    "elif a==a.lower():\n",
    "    print('lowercase')\n",
    "else:\n",
    "    print('special')"
   ]
  },
  {
   "cell_type": "code",
   "execution_count": 45,
   "id": "75ccbb6f",
   "metadata": {},
   "outputs": [
    {
     "name": "stdout",
     "output_type": "stream",
     "text": [
      "Enter coefficient a: 5\n",
      "Enter coefficient b: 6\n",
      "Enter coefficient c: 5\n",
      "The roots are complex: (-0.6+0.8j) and (-0.6-0.8j)\n"
     ]
    }
   ],
   "source": [
    "#18.Write a Python program to determine the roots of a quadratic equation using if-else.\n",
    "import math\n",
    "\n",
    "# Input coefficients a, b, and c from the user\n",
    "a = float(input(\"Enter coefficient a: \"))\n",
    "b = float(input(\"Enter coefficient b: \"))\n",
    "c = float(input(\"Enter coefficient c: \"))\n",
    "\n",
    "# Calculate the discriminant\n",
    "discriminant = b**2 - 4*a*c\n",
    "\n",
    "# Check the value of the discriminant\n",
    "if discriminant > 0:\n",
    "    # Two real and distinct roots\n",
    "    root1 = (-b + math.sqrt(discriminant)) / (2*a)\n",
    "    root2 = (-b - math.sqrt(discriminant)) / (2*a)\n",
    "    print(f\"The roots are real and distinct: {root1} and {root2}\")\n",
    "elif discriminant == 0:\n",
    "    # One real root (a repeated root)\n",
    "    root = -b / (2*a)\n",
    "    print(f\"The root is real and repeated: {root}\")\n",
    "else:\n",
    "    # Complex roots\n",
    "    real_part = -b / (2*a)\n",
    "    imaginary_part = math.sqrt(-discriminant) / (2*a)\n",
    "    root1 = complex(real_part, imaginary_part)\n",
    "    root2 = complex(real_part, -imaginary_part)\n",
    "    print(f\"The roots are complex: {root1} and {root2}\")\n"
   ]
  },
  {
   "cell_type": "code",
   "execution_count": 46,
   "id": "0bdd74ea",
   "metadata": {},
   "outputs": [
    {
     "name": "stdout",
     "output_type": "stream",
     "text": [
      "not a century year\n"
     ]
    }
   ],
   "source": [
    "#19.Create a Python program that checks if a given year is a century year or not using if-else.\n",
    "a = 2023\n",
    "if a%100==0:\n",
    "    print('century year')\n",
    "else:\n",
    "    print('not a century year')"
   ]
  },
  {
   "cell_type": "code",
   "execution_count": 11,
   "id": "fe5610f2",
   "metadata": {},
   "outputs": [
    {
     "name": "stdout",
     "output_type": "stream",
     "text": [
      "Enter a number: 25\n",
      "25 is a perfect square of 5.\n"
     ]
    }
   ],
   "source": [
    "#20.Write a Python program to determine if a given number is a perfect square using if-else.\n",
    "import math\n",
    "\n",
    "# Input a number from the user\n",
    "number = int(input(\"Enter a number: \"))\n",
    "\n",
    "# Calculate the square root of the number\n",
    "sqrt = math.isqrt(number)\n",
    "\n",
    "# Check if the square of the square root is equal to the original number\n",
    "if sqrt * sqrt == number:\n",
    "    print(f\"{number} is a perfect square of {sqrt}.\")\n",
    "else:\n",
    "    print(f\"{number} is not a perfect square.\")\n",
    "\n",
    "              "
   ]
  },
  {
   "cell_type": "code",
   "execution_count": 12,
   "id": "5f66ec52",
   "metadata": {},
   "outputs": [
    {
     "name": "stdout",
     "output_type": "stream",
     "text": [
      "1\n",
      "2\n",
      "4\n",
      "5\n",
      "1\n",
      "2\n"
     ]
    }
   ],
   "source": [
    "#21.Explain the purpose of the \"continue\" and \"break\" statements within if-else loops.\n",
    "'''The continue statement is used within loops to skip the current iteration of the loop and proceed with the next iteration.\n",
    "It is typically used when a certain condition is met, and you want to ignore the remaining code in the current iteration\n",
    "but continue with the next iteration.\n",
    "'''\n",
    "for i in range(1, 6):\n",
    "    if i == 3:\n",
    "        continue  # Skip iteration when i is 3\n",
    "    print(i)\n",
    "\n",
    "\n",
    "'''The break statement is used within loops to exit the loop prematurely when a certain condition is met.\n",
    "It is often used when you want to terminate the loop when a specific condition is satisfied,\n",
    "and you don't need to continue iterating.'''\n",
    "for i in range(1, 6):\n",
    "    if i == 3:\n",
    "        break  # Exit the loop when i is 3\n",
    "    print(i)\n"
   ]
  },
  {
   "cell_type": "code",
   "execution_count": 14,
   "id": "dfd9d2e8",
   "metadata": {},
   "outputs": [
    {
     "name": "stdout",
     "output_type": "stream",
     "text": [
      "Enter your weight in kilograms: 63.4\n",
      "Enter your height in meters: 1.68\n",
      "Your BMI is: 22.46\n",
      "Your BMI category is: Normal Weight\n"
     ]
    }
   ],
   "source": [
    "#22.Create a Python program that calculates the BMI (Body Mass Index) of a person based on their weight and height\n",
    "#using if-else.\n",
    "# Input weight and height from the user\n",
    "weight_kg = float(input(\"Enter your weight in kilograms: \"))\n",
    "height_m = float(input(\"Enter your height in meters: \"))\n",
    "\n",
    "# Calculate BMI\n",
    "bmi = weight_kg / (height_m ** 2)\n",
    "\n",
    "# Determine BMI category based on the calculated value\n",
    "if bmi < 18.5:\n",
    "    category = \"Underweight\"\n",
    "elif 18.5 <= bmi < 24.9:\n",
    "    category = \"Normal Weight\"\n",
    "elif 25 <= bmi < 29.9:\n",
    "    category = \"Overweight\"\n",
    "else:\n",
    "    category = \"Obese\"\n",
    "\n",
    "# Display the calculated BMI and category\n",
    "print(f\"Your BMI is: {bmi:.2f}\")\n",
    "print(f\"Your BMI category is: {category}\")\n"
   ]
  },
  {
   "cell_type": "code",
   "execution_count": 19,
   "id": "884390c3",
   "metadata": {},
   "outputs": [
    {
     "name": "stdout",
     "output_type": "stream",
     "text": [
      "Filtered numbers (even): [2, 4, 6, 8, 10]\n"
     ]
    }
   ],
   "source": [
    "#23.How can you use the \"filter()\" function with if-else statements to filter elements from a list?\n",
    "# Define a filtering function\n",
    "def is_even(x):\n",
    "    return x % 2 == 0\n",
    "\n",
    "# Create a list of numbers\n",
    "numbers = [1, 2, 3, 4, 5, 6, 7, 8, 9, 10]\n",
    "\n",
    "# Use filter() with the filtering function\n",
    "filtered_numbers = filter(is_even, numbers)\n",
    "\n",
    "# Convert the filtered result to a list (or iterate through it)\n",
    "filtered_list = list(filtered_numbers)\n",
    "\n",
    "print(\"Filtered numbers (even):\", filtered_list)\n"
   ]
  },
  {
   "cell_type": "code",
   "execution_count": 20,
   "id": "5ee48c9d",
   "metadata": {},
   "outputs": [
    {
     "data": {
      "text/plain": [
       "'not prime'"
      ]
     },
     "execution_count": 20,
     "metadata": {},
     "output_type": "execute_result"
    }
   ],
   "source": [
    "#24.Write a Python program to determine if a given number is prime or not using if-else.\n",
    "def is_prime(num):\n",
    "    if num <= 1:\n",
    "        return False\n",
    "    for i in range(2, int(num**0.5) + 1):\n",
    "        if num % i == 0:\n",
    "            return 'not prime'\n",
    "    return 'prime'\n",
    "is_prime(50)"
   ]
  },
  {
   "cell_type": "code",
   "execution_count": 11,
   "id": "06882139",
   "metadata": {},
   "outputs": [
    {
     "name": "stdout",
     "output_type": "stream",
     "text": [
      "[1, 4, 9, 16, 25]\n"
     ]
    }
   ],
   "source": [
    "#Map :-\n",
    "\n",
    "\n",
    "'''1. Explain the purpose of the `map()` function in Python and provide an example of how it can be used to apply a function\n",
    "to each element of an iterable.'''\n",
    "\n",
    "\n",
    "'''function: This is the function that you want to apply to each element in the iterable.\n",
    "It can be a built-in function, a user-defined function, or a lambda function.\n",
    "iterable: This is the iterable (e.g., a list, tuple, or other sequence) containing the elements you want to process.\n",
    "The map() function returns an iterator, so you often need to convert it into a specific data structure (e.g., a list)\n",
    "to see the results.'''\n",
    "# Define a function that squares a number\n",
    "def square(x):\n",
    "    return x * x\n",
    "\n",
    "# Create a list of numbers\n",
    "numbers = [1, 2, 3, 4, 5]\n",
    "\n",
    "# Use the map() function to apply the square function to each element of the list\n",
    "squared_numbers = map(square, numbers)\n",
    "\n",
    "# Convert the result into a list\n",
    "squared_numbers_list = list(squared_numbers)\n",
    "\n",
    "# Output the squared numbers\n",
    "print(squared_numbers_list)\n"
   ]
  },
  {
   "cell_type": "code",
   "execution_count": 12,
   "id": "0742dc60",
   "metadata": {},
   "outputs": [
    {
     "name": "stdout",
     "output_type": "stream",
     "text": [
      "[1, 4, 9, 16, 25]\n"
     ]
    }
   ],
   "source": [
    "# 2.Write a Python program that uses the `map()` function to square each element of a list of numbers.\n",
    "# Define a function that squares a number\n",
    "def square(x):\n",
    "    return x * x\n",
    "\n",
    "# Create a list of numbers\n",
    "numbers = [1, 2, 3, 4, 5]\n",
    "\n",
    "# Use the map() function to apply the square function to each element of the list\n",
    "squared_numbers = map(square, numbers)\n",
    "\n",
    "# Convert the result into a list\n",
    "squared_numbers_list = list(squared_numbers)\n",
    "\n",
    "# Output the squared numbers\n",
    "print(squared_numbers_list)"
   ]
  },
  {
   "cell_type": "code",
   "execution_count": null,
   "id": "11b649c9",
   "metadata": {},
   "outputs": [],
   "source": [
    "#3. How does the `map()` function differ from a list comprehension in Python, and when would you choose one over the other?\n",
    "\n",
    "#ans.\n",
    "'''map(): map(function, iterable) takes a function and an iterable as arguments and returns an iterator.\n",
    "You often need to convert the iterator to a specific data structure (e.g., a list) to see the results explicitly.\n",
    "List Comprehension: List comprehensions have a more concise and expressive syntax, \n",
    "allowing you to create a new list by specifying the transformation and filtering directly within square brackets.'''\n",
    "\n",
    "\n",
    "\n",
    "'''I might choose map() when I have a simple transformation to apply to every element in an iterable,\n",
    "and you prefer the functional programming style. On the other hand, list comprehensions are generally\n",
    "the preferred choice for their readability and expressiveness when I need to create a new list based on more\n",
    "complex transformations and filtering conditions. The choice between them often depends on the specific use case\n",
    "and your preference for code style.\n",
    "\n",
    "'''"
   ]
  },
  {
   "cell_type": "code",
   "execution_count": 22,
   "id": "cc43d432",
   "metadata": {},
   "outputs": [
    {
     "name": "stdout",
     "output_type": "stream",
     "text": [
      "['ALICE', 'BOB', 'CHARLIE', 'DAVID', 'EVE']\n"
     ]
    }
   ],
   "source": [
    "#4.Create a Python program that uses the `map()` function to convert a list of names to uppercase.\n",
    "# Define a list of names\n",
    "names = [\"Alice\", \"Bob\", \"Charlie\", \"David\", \"Eve\"]\n",
    "\n",
    "# Use the map() function to convert the names to uppercase\n",
    "uppercase_names = map(str.upper, names)\n",
    "\n",
    "# Convert the result into a list (optional, for explicit display)\n",
    "uppercase_names_list = list(uppercase_names)\n",
    "\n",
    "print(uppercase_names_list)"
   ]
  },
  {
   "cell_type": "code",
   "execution_count": 25,
   "id": "dbe55863",
   "metadata": {},
   "outputs": [
    {
     "name": "stdout",
     "output_type": "stream",
     "text": [
      "[5, 3, 7, 5, 3]\n"
     ]
    }
   ],
   "source": [
    "#5.Write a Python program that uses the `map()` function to calculate the length of each word in a list of strings.\n",
    "names = [\"Alice\", \"Bob\", \"Charlie\", \"David\", \"Eve\"]\n",
    "word= map(len,names)\n",
    "lenth_word = list(word)\n",
    "print(lenth_word)"
   ]
  },
  {
   "cell_type": "code",
   "execution_count": 29,
   "id": "ae2d3ff8",
   "metadata": {},
   "outputs": [
    {
     "name": "stdout",
     "output_type": "stream",
     "text": [
      "[11, 22, 33, 44, 55]\n"
     ]
    }
   ],
   "source": [
    "#6. How can you use the `map()` function to apply a custom function to elements of multiple lists simultaneously in Python?\n",
    "# Define two lists of numbers\n",
    "list1 = [1, 2, 3, 4, 5]\n",
    "list2 = [10, 20, 30, 40, 50]\n",
    "\n",
    "# Define a custom function that takes two arguments and adds them\n",
    "def add_elements(x, y):\n",
    "    return x + y\n",
    "\n",
    "# Use the map() function to apply the custom function to elements of both lists\n",
    "result = map(add_elements, list1, list2)\n",
    "\n",
    "# Convert the result into a list (optional, for explicit display)\n",
    "result_list = list(result)\n",
    "\n",
    "# Output the result\n",
    "print(result_list)\n"
   ]
  },
  {
   "cell_type": "code",
   "execution_count": 31,
   "id": "4ad3761e",
   "metadata": {},
   "outputs": [
    {
     "name": "stdout",
     "output_type": "stream",
     "text": [
      "[86.0, 95.0, 104.0, 113.0, 122.0]\n"
     ]
    }
   ],
   "source": [
    "#7.Create a Python program that uses `map()` to convert a list of temperatures from Celsius to Fahrenheit.\n",
    "def fahrenheiht(c):\n",
    "    F = c*(9/5)+32\n",
    "    return F\n",
    "a = [30,35,40,45,50]\n",
    "b = map(fahrenheiht,a)\n",
    "c = list(b)\n",
    "print(c)\n",
    "    "
   ]
  },
  {
   "cell_type": "code",
   "execution_count": 32,
   "id": "184add58",
   "metadata": {},
   "outputs": [
    {
     "name": "stdout",
     "output_type": "stream",
     "text": [
      "[1, 6, 10, 3]\n"
     ]
    }
   ],
   "source": [
    "#8. Write a Python program that uses the `map()` function to round each element of a list of floating-point numbers\n",
    "#to the nearest integer.\n",
    "def roundoff(x):\n",
    "    return round(x)\n",
    "a = [1.29,5.68,9.99,3.33]\n",
    "b = map(roundoff,a)\n",
    "c = list(b)\n",
    "print(c)"
   ]
  },
  {
   "cell_type": "code",
   "execution_count": 33,
   "id": "8196e1d6",
   "metadata": {},
   "outputs": [
    {
     "name": "stdout",
     "output_type": "stream",
     "text": [
      "120\n"
     ]
    }
   ],
   "source": [
    "#Reduce :-\n",
    "\n",
    "\n",
    "#1.What is the `reduce()` function in Python, and what module should you import to use it? Provide an example of its basic usage.\n",
    "\n",
    "#ans. \n",
    "'''The reduce() function in Python is used to apply a given function cumulatively to the items of an iterable,from left to\n",
    "right. It takes two arguments: the function to be applied and the iterable to be processed. \n",
    "The reduce() function is part of the functools module, so you need to import this module to use it.'''\n",
    "\n",
    "import functools\n",
    "\n",
    "# Define a list of numbers\n",
    "numbers = [2, 3, 4, 5]\n",
    "\n",
    "# Define a custom function to multiply two numbers\n",
    "def multiply(x, y):\n",
    "    return x * y\n",
    "\n",
    "# Use the reduce() function to find the product of all numbers\n",
    "product = functools.reduce(multiply, numbers)\n",
    "\n",
    "# Output the product\n",
    "print(product)\n"
   ]
  },
  {
   "cell_type": "code",
   "execution_count": 34,
   "id": "35e5bc46",
   "metadata": {},
   "outputs": [
    {
     "name": "stdout",
     "output_type": "stream",
     "text": [
      "1680\n"
     ]
    }
   ],
   "source": [
    "#2. Write a Python program that uses the `reduce()` function to find the product of all elements in a list.\n",
    "\n",
    "import functools\n",
    "\n",
    "# Define a list of numbers\n",
    "numbers = [5,6,7,8]\n",
    "\n",
    "# Define a custom function to multiply two numbers\n",
    "def multiply(x, y):\n",
    "    return x * y\n",
    "\n",
    "# Use the reduce() function to find the product of all numbers\n",
    "product = functools.reduce(multiply, numbers)\n",
    "\n",
    "# Output the product\n",
    "print(product)\n"
   ]
  },
  {
   "cell_type": "code",
   "execution_count": 38,
   "id": "9c4d8c9c",
   "metadata": {},
   "outputs": [
    {
     "data": {
      "text/plain": [
       "4"
      ]
     },
     "execution_count": 38,
     "metadata": {},
     "output_type": "execute_result"
    }
   ],
   "source": [
    "#3. Create a Python program that uses `reduce()` to find the maximum element in a list of numbers.\n",
    "import functools\n",
    "def maxi(a,b):\n",
    "    if a>b:\n",
    "        return a\n",
    "    else :\n",
    "        return b\n",
    "a = [1,2,3,4]\n",
    "b = functools.reduce(maxi,a)\n",
    "b\n"
   ]
  },
  {
   "cell_type": "code",
   "execution_count": 42,
   "id": "a50ca1eb",
   "metadata": {},
   "outputs": [
    {
     "data": {
      "text/plain": [
       "['rishabh', 'jaiswal', 'pwskills']"
      ]
     },
     "execution_count": 42,
     "metadata": {},
     "output_type": "execute_result"
    }
   ],
   "source": [
    "# 4.How can you use the `reduce()` function to concatenate a list of strings into a single string?\n",
    "def add(a,b):\n",
    "    return a+b\n",
    "a = [['rishabh'],['jaiswal'],['pwskills']]\n",
    "b = functools.reduce(add,a)\n",
    "c = list(b)\n",
    "c"
   ]
  },
  {
   "cell_type": "code",
   "execution_count": 7,
   "id": "73323822",
   "metadata": {},
   "outputs": [
    {
     "data": {
      "text/plain": [
       "120"
      ]
     },
     "execution_count": 7,
     "metadata": {},
     "output_type": "execute_result"
    }
   ],
   "source": [
    "#5.Write a Python program that calculates the factorial of a number using the `reduce()` function.\n",
    "from functools import reduce\n",
    "def factorial(n):\n",
    "    if n <1:\n",
    "        return n\n",
    "    else :\n",
    "        return reduce(lambda x, y: x * y, range(1, n + 1))\n",
    "a = 5\n",
    "b = factorial(a)\n",
    "b"
   ]
  },
  {
   "cell_type": "code",
   "execution_count": 13,
   "id": "1689af5c",
   "metadata": {},
   "outputs": [
    {
     "data": {
      "text/plain": [
       "5"
      ]
     },
     "execution_count": 13,
     "metadata": {},
     "output_type": "execute_result"
    }
   ],
   "source": [
    "#6.Create a Python program that uses `reduce()` to find the GCD (Greatest Common Divisor) of a list of numbers.\n",
    "from functools import reduce\n",
    "# Function to find the GCD of two numbers\n",
    "def gcd(a, b):\n",
    "    while b:\n",
    "        a, b = b, a % b\n",
    "    return a\n",
    "b = [10,15]\n",
    "def find_gcd(numbers):\n",
    "    if len(numbers) < 2:\n",
    "        return \"At least two numbers are required to find the GCD.\"\n",
    "\n",
    "    return reduce(gcd, numbers)\n",
    "result = find_gcd(b)\n",
    "result"
   ]
  },
  {
   "cell_type": "code",
   "execution_count": 19,
   "id": "77318e74",
   "metadata": {},
   "outputs": [
    {
     "data": {
      "text/plain": [
       "6"
      ]
     },
     "execution_count": 19,
     "metadata": {},
     "output_type": "execute_result"
    }
   ],
   "source": [
    "#7.Write a Python program that uses the `reduce()` function to find the sum of the digits of a given number.\n",
    "# Function to calculate the sum of digits\n",
    "def sum_of_digits(x, y):\n",
    "    return int(x) + int(y)\n",
    "a = 123\n",
    "b = str(a)\n",
    "b = functools.reduce(sum_of_digits,b)\n",
    "b"
   ]
  },
  {
   "cell_type": "code",
   "execution_count": 20,
   "id": "8a2307f4",
   "metadata": {},
   "outputs": [
    {
     "name": "stdout",
     "output_type": "stream",
     "text": [
      "Original list: [1, 2, 3, 4, 5, 6, 7, 8, 9, 10]\n",
      "Even numbers: [2, 4, 6, 8, 10]\n"
     ]
    }
   ],
   "source": [
    "#Filter :-\n",
    "\n",
    "#1.Explain the purpose of the `filter()` function in Python and provide an example of how it can be used to \n",
    "#filter elements from an iterable.\n",
    "\n",
    "\n",
    "#ans.\n",
    "'''The filter() function in Python is used to filter elements from an iterable (e.g., a list, tuple, or other iterable)\n",
    "based on a specified condition. It returns a new iterable that contains only the elements for which the given condition,\n",
    "defined by a function or a lambda expression, evaluates to True'''\n",
    "\n",
    "# Define a function to filter even numbers\n",
    "def is_even(number):\n",
    "    return number % 2 == 0\n",
    "\n",
    "# Create a list of numbers\n",
    "numbers = [1, 2, 3, 4, 5, 6, 7, 8, 9, 10]\n",
    "\n",
    "# Use the filter() function to filter even numbers\n",
    "even_numbers = list(filter(is_even, numbers))\n",
    "\n",
    "# Print the result\n",
    "print(\"Original list:\", numbers)\n",
    "print(\"Even numbers:\", even_numbers)\n",
    "\n"
   ]
  },
  {
   "cell_type": "code",
   "execution_count": 21,
   "id": "c135593c",
   "metadata": {},
   "outputs": [
    {
     "name": "stdout",
     "output_type": "stream",
     "text": [
      "Original list: [11, 12, 13, 14, 15, 16, 17, 18, 19, 20]\n",
      "Even numbers: [12, 14, 16, 18, 20]\n"
     ]
    }
   ],
   "source": [
    "#2.Write a Python program that uses the `filter()` function to select even numbers from a list of integers.\n",
    "# Define a function to filter even numbers\n",
    "def is_even(number):\n",
    "    return number % 2 == 0\n",
    "\n",
    "# Create a list of numbers\n",
    "numbers = [11,12,13,14,15,16,17,18,19,20]\n",
    "\n",
    "# Use the filter() function to filter even numbers\n",
    "even_numbers = list(filter(is_even, numbers))\n",
    "\n",
    "# Print the result\n",
    "print(\"Original list:\", numbers)\n",
    "print(\"Even numbers:\", even_numbers)\n",
    "\n"
   ]
  },
  {
   "cell_type": "code",
   "execution_count": 24,
   "id": "650ec9a0",
   "metadata": {},
   "outputs": [
    {
     "name": "stdout",
     "output_type": "stream",
     "text": [
      "Enter the letter to filter names: f\n",
      "Names starting with 'f':\n",
      "Frank\n"
     ]
    }
   ],
   "source": [
    "#3.Create a Python program that uses the `filter()` function to select names that start with a specific letter \n",
    "#from a list of strings.\n",
    "# List of names\n",
    "names = [\"Alice\", \"Bob\", \"Charlie\", \"David\", \"Eve\", \"Frank\"]\n",
    "\n",
    "# Function to filter names starting with a specific letter\n",
    "def starts_with_letter(letter):\n",
    "    return lambda name: name[0].lower() == letter.lower()\n",
    "\n",
    "# Input: letter to filter names\n",
    "letter = input(\"Enter the letter to filter names: \")\n",
    "\n",
    "# Use the filter() function to select names starting with the specified letter\n",
    "filtered_names = list(filter(starts_with_letter(letter), names))\n",
    "\n",
    "# Print the filtered names\n",
    "print(f\"Names starting with '{letter}':\")\n",
    "for name in filtered_names:\n",
    "    print(name)\n"
   ]
  },
  {
   "cell_type": "code",
   "execution_count": 42,
   "id": "d9f70666",
   "metadata": {},
   "outputs": [
    {
     "name": "stdout",
     "output_type": "stream",
     "text": [
      "Prime numbers: (2, 3, 5, 7, 11)\n"
     ]
    }
   ],
   "source": [
    "#4.Write a Python program that uses the `filter()` function to select prime numbers from a list of integers.\n",
    "# Function to check if a number is prime\n",
    "def is_prime(number):\n",
    "    if number < 2:\n",
    "        return False\n",
    "    for i in range(2, int(number**0.5) + 1):\n",
    "        if number % i == 0:\n",
    "            return False\n",
    "    return True\n",
    "\n",
    "# List of integers\n",
    "numbers = [2, 3, 4, 5, 6, 7, 8, 9, 10, 11, 12]\n",
    "\n",
    "# Use the filter() function to select prime numbers\n",
    "prime_numbers = filter(is_prime, numbers)\n",
    "\n",
    "# Print the prime numbers\n",
    "print(\"Prime numbers:\", tuple(prime_numbers))\n",
    "\n"
   ]
  },
  {
   "cell_type": "code",
   "execution_count": 1,
   "id": "7560d454",
   "metadata": {},
   "outputs": [
    {
     "name": "stdout",
     "output_type": "stream",
     "text": [
      "[1, 2, 3, 4, 5]\n"
     ]
    }
   ],
   "source": [
    "#5.How can you use the `filter()` function to remove None values from a list in Python?\n",
    "# Sample list with None values\n",
    "my_list = [1, None, 2, 3, None, 4, 5]\n",
    "\n",
    "# Define a filtering function that checks for None values\n",
    "def remove_none(item):\n",
    "    return item is not None\n",
    "\n",
    "# Use the filter() function to create a new list without None values\n",
    "filtered_list = list(filter(remove_none, my_list))\n",
    "\n",
    "# Print the filtered list\n",
    "print(filtered_list)\n"
   ]
  },
  {
   "cell_type": "code",
   "execution_count": 9,
   "id": "43bf8197",
   "metadata": {},
   "outputs": [
    {
     "name": "stdout",
     "output_type": "stream",
     "text": [
      "['rishabh', 'jaiswal']\n"
     ]
    }
   ],
   "source": [
    "#6.Create a Python program that uses `filter()` to select words longer than a certain length from a list of strings.\n",
    "# Function to filter words longer than a certain length\n",
    "def filter_long_words(word):\n",
    "    return len(word) >5\n",
    "a = ['rishabh','jaiswal','rj']\n",
    "filtered_list = list(filter(filter_long_words, a))\n",
    "# Print the filtered list\n",
    "print(filtered_list)"
   ]
  },
  {
   "cell_type": "code",
   "execution_count": 10,
   "id": "cddb921c",
   "metadata": {},
   "outputs": [
    {
     "name": "stdout",
     "output_type": "stream",
     "text": [
      "[175, 200]\n"
     ]
    }
   ],
   "source": [
    "#7.Write a Python program that uses the `filter()` function to select elements greater than a specified threshold\n",
    "#from a list of values.\n",
    "\n",
    "def filter_long_numbers(num):\n",
    "    return num >155\n",
    "num1 = [100,125,150,175,200]\n",
    "filtered_list = list(filter(filter_long_numbers, num1))\n",
    "# Print the filtered list\n",
    "print(filtered_list)"
   ]
  },
  {
   "cell_type": "code",
   "execution_count": null,
   "id": "7f4d3aa5",
   "metadata": {},
   "outputs": [],
   "source": [
    "#Recursion:-\n",
    "\n",
    "#1.Explain the concept of recursion in Python. How does it differ from iteration?\n",
    "\n",
    "'''\n",
    "ans. recursion is technique to call a function again and again inside that function only to solve the problems.It is diffrent\n",
    "from iteration as it calls the function again and again. itertion calls the a block of code again and again using loops until\n",
    "a condition is met. The choice between recursion and iteration depends on the specific problem and your preference for code \\\n",
    "clarity and efficiency.'''\n"
   ]
  },
  {
   "cell_type": "code",
   "execution_count": 12,
   "id": "18743f15",
   "metadata": {},
   "outputs": [
    {
     "name": "stdout",
     "output_type": "stream",
     "text": [
      "120\n"
     ]
    }
   ],
   "source": [
    "#2. Write a Python program to calculate the factorial of a number using recursion.\n",
    "def fact(n):\n",
    "    if n<=1:\n",
    "        return n\n",
    "    else:\n",
    "        return n*fact(n-1)\n",
    "print(fact(5))"
   ]
  },
  {
   "cell_type": "code",
   "execution_count": 13,
   "id": "1264cebe",
   "metadata": {},
   "outputs": [
    {
     "name": "stdout",
     "output_type": "stream",
     "text": [
      "55\n"
     ]
    }
   ],
   "source": [
    "#3.Create a recursive Python function to find the nth Fibonacci number.\n",
    "def fib(n):\n",
    "    if n<=1:\n",
    "        return n\n",
    "    else :\n",
    "        return fib(n-1) + fib(n-2)\n",
    "    \n",
    "print(fib(10))"
   ]
  },
  {
   "cell_type": "code",
   "execution_count": 17,
   "id": "35d719fb",
   "metadata": {},
   "outputs": [
    {
     "name": "stdout",
     "output_type": "stream",
     "text": [
      "15\n"
     ]
    }
   ],
   "source": [
    "#4.Write a recursive Python function to calculate the sum of all elements in a list.\n",
    "def recursive_sum(lst):\n",
    "    if len(lst) == 0:\n",
    "        return 0  # Base case: an empty list has a sum of 0\n",
    "    else:\n",
    "        # Recursive case: add the first element to the sum of the rest of the list\n",
    "        return lst[0] + recursive_sum(lst[1:])\n",
    "\n",
    "# Example usage:\n",
    "my_list = [1, 2, 3, 4, 5]\n",
    "result = recursive_sum(my_list)\n",
    "print(result) \n"
   ]
  },
  {
   "cell_type": "code",
   "execution_count": 18,
   "id": "81d1c75f",
   "metadata": {},
   "outputs": [
    {
     "data": {
      "text/plain": [
       "'\\nans. Ensure that your recursive function has a well-defined base case that indicates when the recursion should stop. \\nIn the base case, return a result without making a recursive call. This is the most critical step to prevent infinite \\nrecursion'"
      ]
     },
     "execution_count": 18,
     "metadata": {},
     "output_type": "execute_result"
    }
   ],
   "source": [
    "#5.How can you prevent a recursive function from running indefinitely, causing a stack overflow error?\n",
    "\n",
    "'''\n",
    "ans. Ensure that your recursive function has a well-defined base case that indicates when the recursion should stop. \n",
    "In the base case, return a result without making a recursive call. This is the most critical step to prevent infinite \n",
    "recursion'''"
   ]
  },
  {
   "cell_type": "code",
   "execution_count": 19,
   "id": "70d937de",
   "metadata": {},
   "outputs": [
    {
     "name": "stdout",
     "output_type": "stream",
     "text": [
      "GCD of 48 and 18 is 6\n"
     ]
    }
   ],
   "source": [
    "#6.Create a recursive Python function to find the greatest common divisor (GCD) of two numbers using the Euclidean algorithm.\n",
    "def euclidean_gcd(a, b):\n",
    "    if b == 0:\n",
    "        return a  # The GCD is the non-zero value 'a'\n",
    "    else:\n",
    "        return euclidean_gcd(b, a % b)\n",
    "\n",
    "# Example usage:\n",
    "num1 = 48\n",
    "num2 = 18\n",
    "result = euclidean_gcd(num1, num2)\n",
    "print(\"GCD of\", num1, \"and\", num2, \"is\", result)\n"
   ]
  },
  {
   "cell_type": "code",
   "execution_count": 25,
   "id": "79ced77c",
   "metadata": {},
   "outputs": [
    {
     "name": "stdout",
     "output_type": "stream",
     "text": [
      "hbahsir\n"
     ]
    }
   ],
   "source": [
    "#7.Write a recursive Python function to reverse a string.\n",
    "def reverse(n):\n",
    "    if len(n)==1:\n",
    "        return n\n",
    "    else :\n",
    "        # Recursive case: reverse the substring excluding the first and last characters\n",
    "        return n[-1] + reverse(n[1:-1]) + n[0]\n",
    "\n",
    "print(reverse('rishabh'))"
   ]
  },
  {
   "cell_type": "code",
   "execution_count": 27,
   "id": "70d35200",
   "metadata": {},
   "outputs": [
    {
     "name": "stdout",
     "output_type": "stream",
     "text": [
      "65536\n"
     ]
    }
   ],
   "source": [
    "#8.Create a recursive Python function to calculate the power of a number (x^n).\n",
    "def pow(num,power):\n",
    "    if power<=1:\n",
    "        return num\n",
    "    else:\n",
    "        return num* pow(num,power-1)\n",
    "    \n",
    "result = pow(2,16)\n",
    "print(result)"
   ]
  },
  {
   "cell_type": "code",
   "execution_count": 32,
   "id": "4021b1cb",
   "metadata": {},
   "outputs": [
    {
     "name": "stdout",
     "output_type": "stream",
     "text": [
      "['abc', 'acb', 'bac', 'bca', 'cab', 'cba']\n"
     ]
    }
   ],
   "source": [
    "#9. Write a recursive Python function to find all permutations of a given string.\n",
    "def find_permutations(input_string):\n",
    "    if len(input_string) == 1:\n",
    "        return [input_string]\n",
    "\n",
    "    permutations = []\n",
    "    for i in range(len(input_string)):\n",
    "        first_char = input_string[i]\n",
    "        remaining_chars = input_string[:i] + input_string[i+1:]\n",
    "\n",
    "        # Recursive call to find permutations of the remaining characters\n",
    "        remaining_permutations = find_permutations(remaining_chars)\n",
    "        \n",
    "        \n",
    "        for perm in remaining_permutations:\n",
    "            permutations.append(first_char + perm)\n",
    "\n",
    "\n",
    "    return permutations\n",
    "\n",
    "# Example usage:\n",
    "input_str = \"abc\"\n",
    "result = find_permutations(input_str)\n",
    "print(result)\n"
   ]
  },
  {
   "cell_type": "code",
   "execution_count": 4,
   "id": "b5843bf4",
   "metadata": {},
   "outputs": [
    {
     "data": {
      "text/plain": [
       "True"
      ]
     },
     "execution_count": 4,
     "metadata": {},
     "output_type": "execute_result"
    }
   ],
   "source": [
    "#10.Write a recursive Python function to check if a string is a palindrome.\n",
    "def is_palindrome(s):\n",
    "    # Base case: If the string has 0 or 1 characters, it's a palindrome.\n",
    "    if len(s) <= 1:\n",
    "        return True\n",
    "    \n",
    "    # Compare the first and last characters. If they are the same, continue checking the substring.\n",
    "    if s[0] == s[-1]:\n",
    "        return is_palindrome(s[1:-1])\n",
    "    else:\n",
    "        return False\n",
    "\n",
    "    \n",
    "a = is_palindrome('radar')\n",
    "a"
   ]
  },
  {
   "cell_type": "code",
   "execution_count": 11,
   "id": "3a5e4f6f",
   "metadata": {},
   "outputs": [
    {
     "name": "stdout",
     "output_type": "stream",
     "text": [
      "[1, 2, 3]\n",
      "[1, 2]\n",
      "[1, 3]\n",
      "[1]\n",
      "[2, 3]\n",
      "[2]\n",
      "[3]\n",
      "[]\n"
     ]
    }
   ],
   "source": [
    "#11.Create a recursive Python function to generate all possible combinations of a list of elements.\n",
    "def generate_combinations(arr):\n",
    "    if len(arr) == 0:\n",
    "        return [[]]\n",
    "\n",
    "    first_element = arr[0]\n",
    "    rest_elements = arr[1:]\n",
    "\n",
    "    # Recursive call without the first element\n",
    "    combinations_without_first = generate_combinations(rest_elements)\n",
    "\n",
    "    # Add the first element to each combination in combinations_without_first\n",
    "    combinations_with_first = []\n",
    "    for combo in combinations_without_first:\n",
    "        combinations_with_first.append([first_element] + combo)\n",
    "\n",
    "    # Combine combinations with and without the first element\n",
    "    all_combinations = combinations_with_first + combinations_without_first\n",
    "\n",
    "    return all_combinations\n",
    "\n",
    "# Test the function\n",
    "elements = [1, 2, 3]\n",
    "combinations = generate_combinations(elements)\n",
    "\n",
    "for combo in combinations:\n",
    "    print(combo)\n"
   ]
  },
  {
   "cell_type": "code",
   "execution_count": null,
   "id": "fc301e9c",
   "metadata": {},
   "outputs": [],
   "source": [
    "#Basics of Functions:\n",
    "\n",
    "#1.What is a function in Python, and why is it used?\n",
    "'''\n",
    "ans.In Python, a function is a named, reusable block of code that performs a specific task or a set of tasks.\n",
    "Functions are used to encapsulate a piece of code so that it can be called and executed multiple times,\n",
    "promoting code reusability and modularity.'''\n"
   ]
  },
  {
   "cell_type": "code",
   "execution_count": 12,
   "id": "a4bd020a",
   "metadata": {},
   "outputs": [
    {
     "name": "stdout",
     "output_type": "stream",
     "text": [
      "hbahsir\n"
     ]
    }
   ],
   "source": [
    "#2.How do you define a function in Python? Provide an example.\n",
    "\n",
    "'''\n",
    "ans. we write def befor function name to define a function'''\n",
    "def reverse(n):\n",
    "    if len(n)==1:\n",
    "        return n\n",
    "    else :\n",
    "        # Recursive case: reverse the substring excluding the first and last characters\n",
    "        return n[-1] + reverse(n[1:-1]) + n[0]\n",
    "\n",
    "print(reverse('rishabh'))"
   ]
  },
  {
   "cell_type": "code",
   "execution_count": null,
   "id": "5acd6298",
   "metadata": {},
   "outputs": [],
   "source": [
    "#3.Explain the difference between a function definition and a function call.\\\n",
    "'''\n",
    "ans. A function definition is the process of creating a function in Python.It involves specifying the function's name, \n",
    "parameters, and the code that should be executed when the function is called\n",
    "\n",
    "A function call is the act of invoking or executing a previously defined function.When you call a function, you are \n",
    "instructing Python to run the code within the function's block with specific input values (if any) provided as arguments.'''"
   ]
  },
  {
   "cell_type": "code",
   "execution_count": 1,
   "id": "6bd63a8e",
   "metadata": {},
   "outputs": [
    {
     "data": {
      "text/plain": [
       "15"
      ]
     },
     "execution_count": 1,
     "metadata": {},
     "output_type": "execute_result"
    }
   ],
   "source": [
    "#4.Write a Python program that defines a function to calculate the sum of two numbers and then calls the function.\n",
    "def sum(a,b):\n",
    "    return a+b\n",
    "a = sum(5,10)\n",
    "a"
   ]
  },
  {
   "cell_type": "code",
   "execution_count": null,
   "id": "781d8e27",
   "metadata": {},
   "outputs": [],
   "source": [
    "#5.What is a function signature, and what information does it typically include?\n",
    "'''\n",
    "ans. a function signature refers to the essential information that defines a function's interface, including its name,\n",
    "parameters, and return type. The function signature provides a clear and concise way to understand how to use a function \n",
    "without needing to examine its implementation details'''"
   ]
  },
  {
   "cell_type": "code",
   "execution_count": 2,
   "id": "13961e12",
   "metadata": {},
   "outputs": [
    {
     "data": {
      "text/plain": [
       "30"
      ]
     },
     "execution_count": 2,
     "metadata": {},
     "output_type": "execute_result"
    }
   ],
   "source": [
    "#6.Create a Python function that takes two arguments and returns their product.\n",
    "def product(a,b):\n",
    "    return a*b\n",
    "a = product(5,6)\n",
    "a"
   ]
  },
  {
   "cell_type": "code",
   "execution_count": null,
   "id": "0fd38efb",
   "metadata": {},
   "outputs": [],
   "source": [
    "#Function Parameters and Arguments:\n",
    "\n",
    "#1.Explain the concepts of formal parameters and actual arguments in Python functions\n",
    "'''\n",
    "ans. Formal parameters are placeholders or variables defined in a function's signature that specify what kind of input\n",
    "the function expects. Formal parameters are defined in the function's parameter list within the parentheses following\n",
    "the function name.\n",
    "\n",
    "Actual arguments are used to pass data from the calling code to the function.\n",
    "They are the values that will be assigned to the corresponding formal parameters when the function is executed.\n",
    "Actual arguments can take various forms, including variables, literals, or expressions.'''"
   ]
  },
  {
   "cell_type": "code",
   "execution_count": 8,
   "id": "abdd5eb3",
   "metadata": {},
   "outputs": [
    {
     "name": "stdout",
     "output_type": "stream",
     "text": [
      "Hello, world\n"
     ]
    }
   ],
   "source": [
    "#2.Write a Python program that defines a function with default argument values.\n",
    "def greet(name=\"world\"):\n",
    "   print(\"Hello,\", name)\n",
    "greet()"
   ]
  },
  {
   "cell_type": "code",
   "execution_count": 1,
   "id": "b7ebe9a9",
   "metadata": {},
   "outputs": [
    {
     "name": "stdout",
     "output_type": "stream",
     "text": [
      "Hi, Alice! You are 30 years old.\n"
     ]
    }
   ],
   "source": [
    "#3.How do you use keyword arguments in Python function calls? Provide an example.\n",
    "'''\n",
    "ans. you can use keyword arguments in function calls by specifying the parameter names along with their corresponding values.\n",
    "This allows you to pass arguments to a function in a more explicit and readable manner, and it also gives you the \n",
    "flexibility to provide arguments in a different order than they are defined in the function's parameter list'''\n",
    "\n",
    "def greet(name, age, greeting=\"Hello\"):\n",
    "    print(f\"{greeting}, {name}! You are {age} years old.\")\n",
    "\n",
    "# Using keyword arguments\n",
    "greet(name=\"Alice\", age=30, greeting=\"Hi\")"
   ]
  },
  {
   "cell_type": "code",
   "execution_count": 2,
   "id": "dd29ecdf",
   "metadata": {},
   "outputs": [
    {
     "name": "stdout",
     "output_type": "stream",
     "text": [
      "The sum is: 15\n"
     ]
    }
   ],
   "source": [
    "#4.Create a Python function that accepts a variable number of arguments and calculates their sum.\n",
    "def calculate_sum(*args):\n",
    "    total = 0\n",
    "    for number in args:\n",
    "        total += number\n",
    "    return total\n",
    "\n",
    "# Example usage:\n",
    "result = calculate_sum(1, 2, 3, 4, 5)\n",
    "print(\"The sum is:\", result)  # Output: The sum is: 15\n"
   ]
  },
  {
   "cell_type": "code",
   "execution_count": null,
   "id": "860b1c79",
   "metadata": {},
   "outputs": [],
   "source": [
    "#5.What is the purpose of the `*args` and `**kwargs` syntax in function parameter lists?\n",
    "'''\n",
    "ans. *args is a special syntax that allows you to pass a variable number of positional arguments to a function.\n",
    "It collects all the positional arguments that you pass to the function into a tuple.\n",
    "You can use *args as a parameter in a function definition, and then access the arguments within the function using this tuple.\n",
    "\n",
    "**kwargs allows you to pass a variable number of keyword arguments (key-value pairs) to a function.\n",
    "It collects all the keyword arguments into a dictionary, where the keys are the argument names and the values are the corresponding values.\n",
    "You can use **kwargs as a parameter in a function definition, and then access the keyword arguments within the function using this dictionary'''"
   ]
  },
  {
   "cell_type": "code",
   "execution_count": 5,
   "id": "3c3f3a42",
   "metadata": {},
   "outputs": [
    {
     "name": "stdout",
     "output_type": "stream",
     "text": [
      "30\n"
     ]
    },
    {
     "data": {
      "text/plain": [
       "int"
      ]
     },
     "execution_count": 5,
     "metadata": {},
     "output_type": "execute_result"
    }
   ],
   "source": [
    "#Return Values and Scoping:\n",
    "\n",
    "#1.Describe the role of the `return` statement in Python functions and provide examples.\n",
    "'''\n",
    "ans. The return statement prints the value with a particular datatype given in python function'''\n",
    "def product(a,b):\n",
    "    return a*b\n",
    "a = product(5,6)\n",
    "print(a)\n",
    "type(a)"
   ]
  },
  {
   "cell_type": "code",
   "execution_count": 7,
   "id": "b572d4e2",
   "metadata": {},
   "outputs": [
    {
     "name": "stdout",
     "output_type": "stream",
     "text": [
      "10\n",
      "20\n"
     ]
    }
   ],
   "source": [
    "#2.Explain the concept of variable scope in Python, including local and global variables.\n",
    "'''\n",
    "ans. variable scope refers to the region of a program where a variable can be accessed or modified\n",
    "\n",
    "Local variables are declared and defined within a specific function or block of code.\n",
    "They are only accessible within the function or block in which they are defined.'''\n",
    "def example_function():\n",
    "    # x is a local variable\n",
    "    x = 10\n",
    "    print(x)\n",
    "\n",
    "example_function()\n",
    "\n",
    "'''\n",
    "Global variables are defined at the top level of a Python program or module.\n",
    "They are accessible from any part of the program, both within functions and outside of them.\n",
    "Global variables are available throughout the program's execution.'''\n",
    "# y is a global variable\n",
    "y = 20\n",
    "\n",
    "def example_function():\n",
    "    # Accessing the global variable y\n",
    "    print(y)\n",
    "\n",
    "example_function()"
   ]
  },
  {
   "cell_type": "code",
   "execution_count": 8,
   "id": "bbc18256",
   "metadata": {},
   "outputs": [
    {
     "name": "stdout",
     "output_type": "stream",
     "text": [
      "20\n"
     ]
    }
   ],
   "source": [
    "#3.Write a Python program that demonstrates the use of global variables within functions\n",
    "# y is a global variable\n",
    "y = 20\n",
    "\n",
    "def example_function():\n",
    "    # Accessing the global variable y\n",
    "    print(y)\n",
    "\n",
    "example_function()"
   ]
  },
  {
   "cell_type": "code",
   "execution_count": 9,
   "id": "cf26ea54",
   "metadata": {},
   "outputs": [
    {
     "data": {
      "text/plain": [
       "3628800"
      ]
     },
     "execution_count": 9,
     "metadata": {},
     "output_type": "execute_result"
    }
   ],
   "source": [
    "#4.Create a Python function that calculates the factorial of a number and returns it.\n",
    "def factorial(n):\n",
    "    if n<=1:\n",
    "        return 1\n",
    "    else:\n",
    "        return n*factorial(n-1)\n",
    "    \n",
    "a = factorial(10)\n",
    "a"
   ]
  },
  {
   "cell_type": "code",
   "execution_count": 10,
   "id": "a53a38a0",
   "metadata": {},
   "outputs": [
    {
     "name": "stdout",
     "output_type": "stream",
     "text": [
      "Accessing global variable from within the function: 42\n"
     ]
    }
   ],
   "source": [
    "#5.How can you access variables defined outside a function from within the function?\n",
    "'''\n",
    "you can access variables defined outside a function from within the function by referencing those variables directly.\n",
    "These variables are considered global variables, and they are accessible from any part of the program, \n",
    "including inside functions.'''\n",
    "global_variable = 42  # This is a global variable\n",
    "\n",
    "def access_global_variable():\n",
    "    print(\"Accessing global variable from within the function:\", global_variable)\n",
    "\n",
    "access_global_variable() "
   ]
  },
  {
   "cell_type": "code",
   "execution_count": null,
   "id": "31c52efc",
   "metadata": {},
   "outputs": [],
   "source": [
    "#Lambda Functions and Higher-Order Functions:\n",
    "\n",
    "#1.What are lambda functions in Python, and when are they typically used?\n",
    "'''\n",
    "ans.  Lambda functions are a way to create simple, one-liner functions without having to formally define them using\n",
    "the def keyword. Lambda functions are typically used when you need a small function for a short period of time \n",
    "and don't want to go through the process of defining a regular function.'''"
   ]
  },
  {
   "cell_type": "code",
   "execution_count": 11,
   "id": "b173d342",
   "metadata": {},
   "outputs": [
    {
     "name": "stdout",
     "output_type": "stream",
     "text": [
      "[(4, 1), (1, 2), (5, 3), (2, 4), (3, 5)]\n"
     ]
    }
   ],
   "source": [
    "#2.Write a Python program that uses lambda functions to sort a list of tuples based on the second element.\n",
    "# Sample list of tuples\n",
    "data = [(3, 5), (1, 2), (4, 1), (2, 4), (5, 3)]\n",
    "\n",
    "# Sort the list of tuples based on the second element (index 1)\n",
    "sorted_data = sorted(data, key=lambda x: x[1])\n",
    "\n",
    "# Print the sorted list\n",
    "print(sorted_data)\n"
   ]
  },
  {
   "cell_type": "code",
   "execution_count": 12,
   "id": "7b86e880",
   "metadata": {},
   "outputs": [
    {
     "name": "stdout",
     "output_type": "stream",
     "text": [
      "Original Numbers: [1, 2, 3, 4, 5]\n",
      "Squared Numbers: [1, 4, 9, 16, 25]\n",
      "Doubled Numbers: [2, 4, 6, 8, 10]\n"
     ]
    }
   ],
   "source": [
    "#3.Explain the concept of higher-order functions in Python, and provide an example.\n",
    "'''\n",
    "ans. a higher-order function is a function that takes one or more functions as arguments and/or returns a \n",
    "function as its result. '''\n",
    "# Higher-order function that takes a function and applies it to a list of numbers\n",
    "def apply_function(func, numbers):\n",
    "    result = []\n",
    "    for num in numbers:\n",
    "        result.append(func(num))\n",
    "    return result\n",
    "\n",
    "# A callback function that squares a number\n",
    "def square(x):\n",
    "    return x ** 2\n",
    "\n",
    "# A callback function that doubles a number\n",
    "def double(x):\n",
    "    return x * 2\n",
    "\n",
    "# A list of numbers\n",
    "numbers = [1, 2, 3, 4, 5]\n",
    "\n",
    "# Using the apply_function higher-order function\n",
    "squared_numbers = apply_function(square, numbers)\n",
    "doubled_numbers = apply_function(double, numbers)\n",
    "\n",
    "print(\"Original Numbers:\", numbers)\n",
    "print(\"Squared Numbers:\", squared_numbers)\n",
    "print(\"Doubled Numbers:\", doubled_numbers)\n"
   ]
  },
  {
   "cell_type": "code",
   "execution_count": 14,
   "id": "9334ec4a",
   "metadata": {},
   "outputs": [
    {
     "data": {
      "text/plain": [
       "[1, 4, 9, 16, 25]"
      ]
     },
     "execution_count": 14,
     "metadata": {},
     "output_type": "execute_result"
    }
   ],
   "source": [
    "#4.Create a Python function that takes a list of numbers and a function as arguments, applying the function \n",
    "#to each element in the list.\n",
    "def apply_function(func, numbers):\n",
    "    result = []\n",
    "    for num in numbers:\n",
    "        result.append(func(num))\n",
    "    return result\n",
    "def square(x):\n",
    "    return x ** 2\n",
    "numbers = [1, 2, 3, 4, 5]\n",
    "squared_numbers = apply_function(square, numbers)\n",
    "squared_numbers"
   ]
  },
  {
   "cell_type": "code",
   "execution_count": null,
   "id": "0dc5c33b",
   "metadata": {},
   "outputs": [],
   "source": [
    "#Built-in Functions:\n",
    "\n",
    "#1.Describe the role of built-in functions like `len()`, `max()`, and `min()` in Python.\n",
    "'''\n",
    "ans. the role of built in function is to directly use them in python program. we dont have to write a function for them.\n",
    "They are built in function and can be called anywhere in the program'''"
   ]
  },
  {
   "cell_type": "code",
   "execution_count": 18,
   "id": "2fff9b0f",
   "metadata": {},
   "outputs": [
    {
     "data": {
      "text/plain": [
       "[1, 4, 9, 16]"
      ]
     },
     "execution_count": 18,
     "metadata": {},
     "output_type": "execute_result"
    }
   ],
   "source": [
    "#2.Write a Python program that uses the `map()` function to apply a function to each element of a list.\n",
    "def square(x):\n",
    "    return x ** 2\n",
    "a = [1,2,3,4]\n",
    "b = map(square,a)\n",
    "c = list(b)\n",
    "c"
   ]
  },
  {
   "cell_type": "code",
   "execution_count": null,
   "id": "b4a369cb",
   "metadata": {},
   "outputs": [],
   "source": [
    "#3.How does the `filter()` function work in Python, and when would you use it?\n",
    "'''\n",
    "ans. The filter() function in Python is used to filter a sequence (e.g., a list, tuple, or iterable)\n",
    "based on a specified condition. i will use it when i want to filter out a particular condition in the list or tuple,etc'''"
   ]
  },
  {
   "cell_type": "code",
   "execution_count": 24,
   "id": "0876b197",
   "metadata": {},
   "outputs": [
    {
     "data": {
      "text/plain": [
       "40320"
      ]
     },
     "execution_count": 24,
     "metadata": {},
     "output_type": "execute_result"
    }
   ],
   "source": [
    "#4.Create a Python program that uses the `reduce()` function to find the product of all elements in a list.\n",
    "from functools import reduce\n",
    "def product(a,b):\n",
    "    return a*b\n",
    "b = [1,2,3,4,5,6,7,8]\n",
    "c = reduce(product,(b))\n",
    "c"
   ]
  },
  {
   "cell_type": "code",
   "execution_count": null,
   "id": "b96f782c",
   "metadata": {},
   "outputs": [],
   "source": [
    "#Function Documentation and Best Practices:\n",
    "\n",
    "#1.Explain the purpose of docstrings in Python functions and how to write them.\n",
    "'''\n",
    "ans.Docstrings in Python are used to document functions, classes, modules, or methods to provide clear and \n",
    "informative descriptions of their purpose, usage, and parameters. They serve as a form of inline documentation, \n",
    "helping developers understand how to use the code and what it does.Docstrings are typically enclosed in triple quotes\n",
    "(single or double) and are placed at the beginning of a function, class, or module definition\n",
    "\n",
    "'''\n"
   ]
  },
  {
   "cell_type": "code",
   "execution_count": null,
   "id": "d12a0c4f",
   "metadata": {},
   "outputs": [],
   "source": [
    "#2.Describe some best practices for naming functions and variables in Python, including naming conventions and guidelines.\n",
    "'''\n",
    "ans. Naming functions and variables in Python is important for writing clean, readable, and maintainable code.\n",
    "Following consistent naming conventions and guidelines is crucial for code clarity and collaboration.\n",
    "Here are some best practices for naming functions and variables in Python:\n",
    "\n",
    "Use descriptive names that convey the purpose.\n",
    "Follow naming conventions (snake_case for variables and functions, PascalCase for classes, UPPERCASE_WITH_UNDERSCORES for constants).\n",
    "Use English words for naming.\n",
    "Avoid single-letter variable names.\n",
    "Be consistent with your naming style.\n",
    "Refer to Python's PEP 8 style guide for guidelines.\n",
    "Use verb-noun patterns for function names.\n",
    "Use noun phrases for variable names.\n",
    "Avoid reserved keywords.\n",
    "Consider context when choosing names.\n",
    "Use singular and plural forms appropriately.\n",
    "Avoid ambiguous names.\n",
    "Use abbreviations sparingly.\n",
    "Document unusual or domain-specific names.\n",
    "Check for existing names in your codebase.\n",
    "Follow any project-specific naming conventions if applicable.'''"
   ]
  }
 ],
 "metadata": {
  "kernelspec": {
   "display_name": "Python 3 (ipykernel)",
   "language": "python",
   "name": "python3"
  },
  "language_info": {
   "codemirror_mode": {
    "name": "ipython",
    "version": 3
   },
   "file_extension": ".py",
   "mimetype": "text/x-python",
   "name": "python",
   "nbconvert_exporter": "python",
   "pygments_lexer": "ipython3",
   "version": "3.11.4"
  }
 },
 "nbformat": 4,
 "nbformat_minor": 5
}
